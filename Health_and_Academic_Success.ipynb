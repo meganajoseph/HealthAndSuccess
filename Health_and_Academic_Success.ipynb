{
 "cells": [
  {
   "cell_type": "markdown",
   "id": "47547cea",
   "metadata": {},
   "source": [
    "# Health and Academic Success"
   ]
  },
  {
   "cell_type": "code",
   "execution_count": 1,
   "id": "5ae03883",
   "metadata": {},
   "outputs": [],
   "source": [
    "import sqlite3\n",
    "import numpy as np\n",
    "import matplotlib.pyplot as plt\n",
    "import pandas as pd\n",
    "import seaborn as sns\n",
    "import plotly.express as px"
   ]
  },
  {
   "cell_type": "code",
   "execution_count": 2,
   "id": "a0e1a29e",
   "metadata": {},
   "outputs": [],
   "source": [
    "bay_counties = ['Alameda', 'Contra Costa', 'Marin', 'Napa', 'San Francisco', 'San Mateo', 'Santa Clara', 'Solano', 'Sonoma']\n",
    "bay_districts = ['Alameda Unified', 'Albany Unified', 'Berkeley Unified', 'Castro Valley Unified', \n",
    "                 'Dublin Unified', 'Emery Unified', 'Fremont Unified', 'Hayward Unified', \n",
    "                 'Livermore Valley Joint Unified', 'Mountain House Elementary', 'New Haven Unified', \n",
    "                 'Newark Unified', 'Oakland Unified', 'Piedmont City Unified', 'Pleasanton Unified', \n",
    "                 'San Leandro Unified', 'San Lorenzo Unified', 'Sunol Glen Unified', \n",
    "                 'Acalanes Union High', 'Antioch Unified', 'Brentwood Union Elementary', 'Byron Union Elementary', \n",
    "                 'Canyon Elementary', 'John Swett Unified', 'Knightsen Elementary', 'Lafayette Elementary', \n",
    "                 'Liberty Union High', 'Martinez Unified', 'Moraga Elementary', 'Mt. Diablo Unified', \n",
    "                 'Oakley Union Elementary', 'Orinda Union Elementary', 'Pittsburg Unified', \n",
    "                 'San Ramon Valley Unified', 'Walnut Creek Elementary', 'West Contra Costa Unified', \n",
    "                 'Bolinas-Stinson Union', 'Kentfield Elementary', 'Laguna Joint Elementary', 'Lagunitas Elementary', \n",
    "                 'Larkspur-Corte Madera', 'Mill Valley Elementary', 'Miller Creek Elementary', 'Nicasio', \n",
    "                 'Novato Unified', 'Reed Union Elementary', 'Ross Elementary', 'Ross Valley Elementary', \n",
    "                 'San Rafael City Elementary', 'San Rafael City High', 'Sausalito Marin City', 'Shoreline Unified', \n",
    "                 'Tamalpais Union High', \n",
    "                 'Calistoga Joint Unified', 'Howell Mountain Elementary',\n",
    "                 'Napa Valley Unified', 'Pope Valley Union Elementary', 'Saint Helena Unified', \n",
    "                 'San Francisco Unified', \n",
    "                 'Bayshore Elementary', 'Belmont-Redwood Shores Elementary',\n",
    "                 'Brisbane Elementary', 'Burlingame Elementary', 'Cabrillo Unified', 'Hillsborough City Elementary', \n",
    "                 'Jefferson Elementary', 'Jefferson Union High', 'La Honda-Pescadero Unified', \n",
    "                 'Las Lomitas Elementary', 'Menlo Park City Elementary', 'Millbrae Elementary', 'Pacifica', \n",
    "                 'Portola Valley Elementary', 'Ravenswood City Elementary', 'Redwood City Elementary', \n",
    "                 'San Bruno Park Elementary', 'San Carlos Elementary', 'San Mateo Union High', \n",
    "                 'San Mateo-Foster City', 'Sequoia Union High', 'South San Francisco Unified', \n",
    "                 'Woodside Elementary', \n",
    "                 'Alum Rock Union Elementary', 'Berryessa Union Elementary', 'Cambrian', \n",
    "                 'Campbell Union', 'Campbell Union High', 'Cupertino Union', 'East Side Union High', \n",
    "                 'Evergreen Elementary', 'Franklin-McKinley Elementary', 'Fremont Union High', 'Gilroy Unified', \n",
    "                 'Lakeside Joint', 'Loma Prieta Joint Union Elementary', 'Los Altos Elementary', \n",
    "                 'Los Gatos Union Elementary', 'Los Gatos-Saratoga Joint Union High', 'Luther Burbank', \n",
    "                 'Milpitas Unified', 'Moreland', 'Morgan Hill Unified', 'Mount Pleasant Elementary', \n",
    "                 'Mountain View Whisman', 'Mountain View-Los Altos Union High', 'Oak Grove Elementary', \n",
    "                 'Orchard Elementary', 'Palo Alto Unified', 'San Jose Unified', 'Santa Clara Unified', \n",
    "                 'Saratoga Union Elementary', 'Sunnyvale', 'Union Elementary', \n",
    "                 'Benicia Unified', 'Dixon Unified', 'Fairfield-Suisun Unified', 'Travis Unified', \n",
    "                 'Vacaville Unified', 'Vallejo City Unified', \n",
    "                 'Alexander Valley Union Elementary', 'Bellevue Union', 'Bennett Valley Union Elementary', \n",
    "                 'Cinnabar Elementary', 'Cloverdale Unified', 'Cotati-Rohnert Park Unified', 'Dunham Elementary', \n",
    "                 'Forestville Union Elementary', 'Fort Ross Elementary', 'Geyserville Unified', \n",
    "                 'Gravenstein Union Elementary', 'Guerneville Elementary', 'Harmony Union Elementary', \n",
    "                 'Healdsburg Unified', 'Horicon Elementary', 'Kashia Elementary', 'Kenwood', 'Liberty Elementary', \n",
    "                 'Mark West Union Elementary', 'Monte Rio Union Elementary', 'Montgomery Elementary', \n",
    "                 'Oak Grove Union Elementary', 'Old Adobe Union', 'Petaluma City Elementary', \n",
    "                 'Petaluma Joint Union High', 'Piner-Olivet Union Elementary', 'Rincon Valley Union Elementary', \n",
    "                 'Roseland', 'Santa Rosa Elementary', 'Santa Rosa High', 'Sebastopol Union Elementary', \n",
    "                 'Sonoma Valley Unified', 'Twin Hills Union Elementary', 'Two Rock Union', 'Waugh Elementary', \n",
    "                 'West Side Union Elementary', 'West Sonoma County Union High', 'Wilmar Union Elementary', \n",
    "                 'Windsor Unified', 'Wright Elementary']\n",
    "district_to_county = {'Alameda': ['Alameda Unified', 'Albany Unified', 'Berkeley Unified', 'Castro Valley Unified', \n",
    "                                  'Dublin Unified', 'Emery Unified', 'Fremont Unified',\n",
    "                                  'Hayward Unified', 'Livermore Valley Joint Unified', 'Mountain House Elementary', \n",
    "                                  'New Haven Unified', 'Newark Unified', 'Oakland Unified', \n",
    "                                  'Piedmont City Unified', 'Pleasanton Unified', 'San Leandro Unified', \n",
    "                                  'San Lorenzo Unified', 'Sunol Glen Unified'], \n",
    "                      'Contra Costa': ['Acalanes Union High', 'Antioch Unified', 'Brentwood Union Elementary', \n",
    "                                       'Byron Union Elementary', 'Canyon Elementary', 'John Swett Unified', \n",
    "                                       'Knightsen Elementary', 'Lafayette Elementary', 'Liberty Union High', \n",
    "                                       'Martinez Unified', 'Moraga Elementary', 'Mt. Diablo Unified', \n",
    "                                       'Oakley Union Elementary', 'Orinda Union Elementary', 'Pittsburg Unified', \n",
    "                                       'San Ramon Valley Unified', 'Walnut Creek Elementary', \n",
    "                                       'West Contra Costa Unified'], \n",
    "                      'Marin': ['Bolinas-Stinson Union', 'Kentfield Elementary', 'Laguna Joint Elementary', \n",
    "                                'Lagunitas Elementary', 'Larkspur-Corte Madera', 'Mill Valley Elementary', \n",
    "                                'Miller Creek Elementary', 'Nicasio', 'Novato Unified', 'Reed Union Elementary', \n",
    "                                'Ross Elementary', 'Ross Valley Elementary', 'San Rafael City Elementary', \n",
    "                                'San Rafael City High', 'Sausalito Marin City', 'Shoreline Unified',\n",
    "                                'Tamalpais Union High'], \n",
    "                      'Napa': ['Calistoga Joint Unified', 'Howell Mountain Elementary', 'Napa Valley Unified', \n",
    "                               'Pope Valley Union Elementary', 'Saint Helena Unified'], \n",
    "                      'San Francisco': ['San Francisco Unified'], \n",
    "                      'San Mateo': ['Bayshore Elementary', 'Belmont-Redwood Shores Elementary', \n",
    "                                    'Brisbane Elementary', 'Burlingame Elementary', 'Cabrillo Unified', \n",
    "                                    'Hillsborough City Elementary', 'Jefferson Elementary', 'Jefferson Union High', \n",
    "                                    'La Honda-Pescadero Unified', 'Las Lomitas Elementary', \n",
    "                                    'Menlo Park City Elementary', 'Millbrae Elementary', 'Pacifica', \n",
    "                                    'Portola Valley Elementary', 'Ravenswood City Elementary', \n",
    "                                    'Redwood City Elementary', 'San Bruno Park Elementary', \n",
    "                                    'San Carlos Elementary', 'San Mateo Union High', 'San Mateo-Foster City', \n",
    "                                    'Sequoia Union High', 'South San Francisco Unified', 'Woodside Elementary'], \n",
    "                      'Santa Clara': ['Alum Rock Union Elementary', 'Berryessa Union Elementary', 'Cambrian',\n",
    "                                      'Campbell Union', 'Campbell Union High', 'Cupertino Union', \n",
    "                                      'East Side Union High', 'Evergreen Elementary', \n",
    "                                      'Franklin-McKinley Elementary', 'Fremont Union High', 'Gilroy Unified', \n",
    "                                      'Lakeside Joint', 'Loma Prieta Joint Union Elementary', \n",
    "                                      'Los Altos Elementary', 'Los Gatos Union Elementary', \n",
    "                                      'Los Gatos-Saratoga Joint Union High', 'Luther Burbank', 'Milpitas Unified', \n",
    "                                      'Moreland', 'Morgan Hill Unified', 'Mount Pleasant Elementary', \n",
    "                                      'Mountain View Whisman', 'Mountain View-Los Altos Union High', \n",
    "                                      'Oak Grove Elementary', 'Orchard Elementary', 'Palo Alto Unified', \n",
    "                                      'San Jose Unified', 'Santa Clara Unified', 'Saratoga Union Elementary', \n",
    "                                      'Sunnyvale', 'Union Elementary',], \n",
    "                      'Solano': ['Benicia Unified', 'Dixon Unified', 'Fairfield-Suisun Unified', 'Travis Unified',\n",
    "                                 'Vacaville Unified', 'Vallejo City Unified'], \n",
    "                      'Sonoma': ['Alexander Valley Union Elementary', 'Bellevue Union', \n",
    "                                 'Bennett Valley Union Elementary', 'Cinnabar Elementary', 'Cloverdale Unified', \n",
    "                                 'Cotati-Rohnert Park Unified', 'Dunham Elementary', 'Forestville Union Elementary',\n",
    "                                 'Fort Ross Elementary', 'Geyserville Unified', 'Gravenstein Union Elementary', \n",
    "                                 'Guerneville Elementary', 'Harmony Union Elementary', 'Healdsburg Unified', \n",
    "                                 'Horicon Elementary', 'Kashia Elementary', 'Kenwood', 'Liberty Elementary', \n",
    "                                 'Mark West Union Elementary', 'Monte Rio Union Elementary', \n",
    "                                 'Montgomery Elementary', 'Oak Grove Union Elementary', 'Old Adobe Union', \n",
    "                                 'Petaluma City Elementary', 'Petaluma Joint Union High', \n",
    "                                 'Piner-Olivet Union Elementary', 'Rincon Valley Union Elementary', 'Roseland', \n",
    "                                 'Santa Rosa Elementary', 'Santa Rosa High', 'Sebastopol Union Elementary', \n",
    "                                 'Sonoma Valley Unified', 'Twin Hills Union Elementary', 'Two Rock Union', \n",
    "                                 'Waugh Elementary', 'West Side Union Elementary', 'West Sonoma County Union High', \n",
    "                                 'Wilmar Union Elementary', 'Windsor Unified', 'Wright Elementary']}"
   ]
  },
  {
   "cell_type": "markdown",
   "id": "34f57deb",
   "metadata": {},
   "source": [
    "## The Data"
   ]
  },
  {
   "cell_type": "markdown",
   "id": "f8fdd6da",
   "metadata": {},
   "source": [
    "This data gives the percent of students in the grades 5, 7 or 9 that are physically fit per county in California. There is a section that splits per gender and entries that comprise all students. I chose this data file because it gives an estimate on physical fitness for students grouped by county.\n",
    "\n",
    "The data is taken from https://data.chhs.ca.gov/dataset/percentage-of-physically-fit-students-lghc-indicator-8/resource/d3234ded-55ac-4ff9-9dee-7dde87e078e3."
   ]
  },
  {
   "cell_type": "code",
   "execution_count": null,
   "id": "b43671ac",
   "metadata": {},
   "outputs": [],
   "source": [
    "fit_students = pd.read_csv('data/percentage-of-physically-fit-students-lghc-indicator-8.csv')\n",
    "fit_students"
   ]
  },
  {
   "cell_type": "markdown",
   "id": "36311b09",
   "metadata": {},
   "source": [
    "Health index of schools in California. Includes data on various different health factors. I chose this data file because it gives many different indicators for both physical and mental health.\n",
    "\n",
    "This data is taken from https://www.schoolhealthcenters.org/school-based-health/student-health-index/.\n",
    "\n",
    "A report of the data can be found here: https://www.schoolhealthcenters.org/wp-content/uploads/2023/10/Student-Health-Index-Full-Report-2023.pdf."
   ]
  },
  {
   "cell_type": "code",
   "execution_count": null,
   "id": "6be26f39",
   "metadata": {},
   "outputs": [],
   "source": [
    "health_index = pd.read_csv('data/Sheet 1_data.tsv', sep='\\t')\n",
    "health_index"
   ]
  },
  {
   "cell_type": "markdown",
   "id": "b30bf386",
   "metadata": {},
   "source": [
    "Graduation rates per year from the 2017-2018, 2018-2019, 2019-2020, 2020-2021, and 2021-2022 school years in California. 2020-2021 and 2021-2022 school years may show lower rates due to online school during COVID.\n",
    "\n",
    "This data is taken from here: https://www.cde.ca.gov/ds/ad/filesfycgr.asp."
   ]
  },
  {
   "cell_type": "code",
   "execution_count": null,
   "id": "2369e522",
   "metadata": {},
   "outputs": [],
   "source": [
    "grad_rate_17_18 = pd.read_csv(\"data/fycgr18.txt\", sep=\"\\t\")\n",
    "grad_rate_17_18"
   ]
  },
  {
   "cell_type": "code",
   "execution_count": null,
   "id": "a365017a",
   "metadata": {},
   "outputs": [],
   "source": [
    "grad_rate_18_19 = pd.read_csv(\"data/fycgr19.txt\", sep=\"\\t\")\n",
    "grad_rate_18_19"
   ]
  },
  {
   "cell_type": "code",
   "execution_count": null,
   "id": "aac6f2a4",
   "metadata": {},
   "outputs": [],
   "source": [
    "grad_rate_19_20 = pd.read_csv(\"data/fycgr20.txt\", sep=\"\\t\")\n",
    "grad_rate_19_20"
   ]
  },
  {
   "cell_type": "code",
   "execution_count": null,
   "id": "53364fac",
   "metadata": {},
   "outputs": [],
   "source": [
    "grad_rate_20_21 = pd.read_csv(\"data/fycgr21.txt\", sep=\"\\t\")\n",
    "grad_rate_20_21"
   ]
  },
  {
   "cell_type": "code",
   "execution_count": null,
   "id": "a578b8a4",
   "metadata": {},
   "outputs": [],
   "source": [
    "grad_rate_21_22 = pd.read_csv(\"data/fycgr22-v2.txt\", sep=\"\\t\")\n",
    "grad_rate_21_22"
   ]
  },
  {
   "cell_type": "markdown",
   "id": "3c073bcb-1aa5-4e61-a2a2-764ace260a0a",
   "metadata": {},
   "source": [
    "State testing scores in math and reading for the 2017-2018, 2018-2019, 2020-2021, and 2021-2022 school years.\n",
    "\n",
    "All datasets are taken from here: https://caaspp-elpac.ets.org/caaspp/ViewReportSB?ps=true&lstTestYear=2018&lstTestType=B&lstGroup=1&lstGrade=13&lstSchoolType=A&lstCounty=00&lstDistrict=00000&lstSchool=0000000&lstSubject=e&lstFocus=e."
   ]
  },
  {
   "cell_type": "code",
   "execution_count": 3,
   "id": "3e75a6df",
   "metadata": {},
   "outputs": [
    {
     "data": {
      "text/plain": [
       "3269730"
      ]
     },
     "execution_count": 3,
     "metadata": {},
     "output_type": "execute_result"
    }
   ],
   "source": [
    "# using sqlite since these files are very large\n",
    "test_scores_17_18 = pd.read_csv('data/sb_ca2018_all_csv_v3/sb_ca2018_all_csv_v3.txt')\n",
    "conn = sqlite3.connect(\"health_and_success.db\")\n",
    "test_scores_17_18.to_sql(\"test_scores_17_18\", conn, if_exists=\"replace\", index=False)"
   ]
  },
  {
   "cell_type": "code",
   "execution_count": 4,
   "id": "469797a2-f4f8-451a-96ff-fced1e1b7a2b",
   "metadata": {},
   "outputs": [
    {
     "data": {
      "text/plain": [
       "11333"
      ]
     },
     "execution_count": 4,
     "metadata": {},
     "output_type": "execute_result"
    }
   ],
   "source": [
    "county_names_17_18 = pd.read_csv('data/sb_ca2018_all_csv_v3/sb_ca2018entities_csv.txt', encoding = \"ISO-8859-1\")\n",
    "county_names_17_18.to_sql(\"county_names_17_18\", conn, if_exists=\"replace\", index=False)"
   ]
  },
  {
   "cell_type": "code",
   "execution_count": 5,
   "id": "63f24f1e",
   "metadata": {},
   "outputs": [
    {
     "data": {
      "text/plain": [
       "3576491"
      ]
     },
     "execution_count": 5,
     "metadata": {},
     "output_type": "execute_result"
    }
   ],
   "source": [
    "test_scores_18_19 = pd.read_csv('data/sb_ca2019_all_csv_v4/sb_ca2019_all_csv_v4.txt')\n",
    "test_scores_18_19.to_sql(\"test_scores_18_19\", conn, if_exists=\"replace\", index=False)"
   ]
  },
  {
   "cell_type": "code",
   "execution_count": 6,
   "id": "5b9931df-9eff-440e-bd28-fb29b8cc0372",
   "metadata": {},
   "outputs": [
    {
     "data": {
      "text/plain": [
       "11389"
      ]
     },
     "execution_count": 6,
     "metadata": {},
     "output_type": "execute_result"
    }
   ],
   "source": [
    "county_names_18_19 = pd.read_csv('data/sb_ca2019_all_csv_v4/sb_ca2019entities_csv.txt', encoding = \"ISO-8859-1\") \n",
    "county_names_18_19.to_sql(\"county_names_18_19\", conn, if_exists=\"replace\", index=False)"
   ]
  },
  {
   "cell_type": "code",
   "execution_count": 7,
   "id": "1506d103-0548-4a80-8b09-336850b11465",
   "metadata": {},
   "outputs": [
    {
     "name": "stderr",
     "output_type": "stream",
     "text": [
      "C:\\Users\\megan\\AppData\\Local\\Temp\\ipykernel_31904\\1855466722.py:1: DtypeWarning: Columns (7,8,12,13,14,15,16,17,18,19,20,21,22,23,24,25,26,27,28,29,30,31) have mixed types. Specify dtype option on import or set low_memory=False.\n",
      "  test_scores_20_21 = pd.read_csv('data/sb_ca2021_all_csv_v2/sb_ca2021_all_csv_v2.txt', sep=\"^\")\n"
     ]
    },
    {
     "data": {
      "text/plain": [
       "3586711"
      ]
     },
     "execution_count": 7,
     "metadata": {},
     "output_type": "execute_result"
    }
   ],
   "source": [
    "test_scores_20_21 = pd.read_csv('data/sb_ca2021_all_csv_v2/sb_ca2021_all_csv_v2.txt', sep=\"^\")\n",
    "test_scores_20_21.to_sql(\"test_scores_20_21\", conn, if_exists=\"replace\", index=False)"
   ]
  },
  {
   "cell_type": "code",
   "execution_count": 8,
   "id": "b8763660-3f6b-4692-a442-9b21823f7ea1",
   "metadata": {},
   "outputs": [
    {
     "data": {
      "text/plain": [
       "11149"
      ]
     },
     "execution_count": 8,
     "metadata": {},
     "output_type": "execute_result"
    }
   ],
   "source": [
    "county_names_20_21 = pd.read_csv('data/sb_ca2021_all_csv_v2/sb_ca2021entities_csv.txt', sep=\"^\", encoding = \"ISO-8859-1\", on_bad_lines='skip')\n",
    "county_names_20_21.to_sql(\"county_names_20_21\", conn, if_exists=\"replace\", index=False)"
   ]
  },
  {
   "cell_type": "code",
   "execution_count": 9,
   "id": "93b92b96-f7f3-4f79-8b0a-25434b1ce1db",
   "metadata": {},
   "outputs": [
    {
     "data": {
      "text/plain": [
       "3855781"
      ]
     },
     "execution_count": 9,
     "metadata": {},
     "output_type": "execute_result"
    }
   ],
   "source": [
    "test_scores_21_22 = pd.read_csv('data/sb_ca2022_all_csv_v1/sb_ca2022_all_csv_v1.txt', sep=\"^\")\n",
    "test_scores_21_22.to_sql(\"test_scores_21_22\", conn, if_exists=\"replace\", index=False)"
   ]
  },
  {
   "cell_type": "code",
   "execution_count": 10,
   "id": "cbb2b416-b06a-407d-93e5-c185214cda0e",
   "metadata": {},
   "outputs": [
    {
     "data": {
      "text/plain": [
       "11339"
      ]
     },
     "execution_count": 10,
     "metadata": {},
     "output_type": "execute_result"
    }
   ],
   "source": [
    "county_names_21_22 = pd.read_csv('data/sb_ca2022_all_csv_v1/sb_ca2022entities_csv.txt', sep=\"^\", encoding = \"ISO-8859-1\", on_bad_lines='skip')\n",
    "county_names_21_22.to_sql(\"county_names_21_22\", conn, if_exists=\"replace\", index=False)"
   ]
  },
  {
   "cell_type": "markdown",
   "id": "de6e093d",
   "metadata": {},
   "source": [
    "## Data Cleaning"
   ]
  },
  {
   "cell_type": "markdown",
   "id": "59d7dafd-6303-498e-b358-be97ce38c108",
   "metadata": {},
   "source": [
    "#### Cleaning and Analyzing fit_students Dataset"
   ]
  },
  {
   "cell_type": "code",
   "execution_count": null,
   "id": "974d6430",
   "metadata": {},
   "outputs": [],
   "source": [
    "# so I don't have to keep checking what fit_students \n",
    "fit_students"
   ]
  },
  {
   "cell_type": "code",
   "execution_count": null,
   "id": "1490d4c1-2f49-4d8d-9351-73a9db8849c6",
   "metadata": {},
   "outputs": [],
   "source": [
    "fit_students['Strata'].unique()"
   ]
  },
  {
   "cell_type": "code",
   "execution_count": null,
   "id": "2c7680e1",
   "metadata": {},
   "outputs": [],
   "source": [
    "df_fit_students = fit_students[fit_students['Strata'].isna()]"
   ]
  },
  {
   "cell_type": "code",
   "execution_count": null,
   "id": "5e9af3a8",
   "metadata": {},
   "outputs": [],
   "source": [
    "df_fit_students = df_fit_students[['Year', 'Geography', 'Grade Lev', 'Percent', 'Stardard Error']]"
   ]
  },
  {
   "cell_type": "code",
   "execution_count": null,
   "id": "9a5289c9-e5e9-413f-b12b-2218a7aa663b",
   "metadata": {},
   "outputs": [],
   "source": [
    "df_fit_students.isnull().any()"
   ]
  },
  {
   "cell_type": "code",
   "execution_count": null,
   "id": "823670b2-9dcc-476b-ba7e-69fc231f78d6",
   "metadata": {},
   "outputs": [],
   "source": [
    "df_fit_students = df_fit_students.dropna()"
   ]
  },
  {
   "cell_type": "code",
   "execution_count": null,
   "id": "588c000d",
   "metadata": {},
   "outputs": [],
   "source": [
    "df_fit_students['Plus Error'] = df_fit_students['Percent'] + df_fit_students['Stardard Error']"
   ]
  },
  {
   "cell_type": "code",
   "execution_count": null,
   "id": "b0ae868a",
   "metadata": {},
   "outputs": [],
   "source": [
    "df_fit_students['Minus Error'] = df_fit_students['Percent'] - df_fit_students['Stardard Error']"
   ]
  },
  {
   "cell_type": "code",
   "execution_count": null,
   "id": "d63cf310",
   "metadata": {},
   "outputs": [],
   "source": [
    "percent_mean = df_fit_students.groupby(by=['Year', 'Geography'], as_index=False)['Percent'].mean()['Percent']"
   ]
  },
  {
   "cell_type": "code",
   "execution_count": null,
   "id": "57e5abbe",
   "metadata": {},
   "outputs": [],
   "source": [
    "upper_mean_error = df_fit_students.groupby(by=['Year', 'Geography'], as_index=False)['Plus Error'].mean()['Plus Error']"
   ]
  },
  {
   "cell_type": "code",
   "execution_count": null,
   "id": "5bb20cf4",
   "metadata": {},
   "outputs": [],
   "source": [
    "lower_mean_error = df_fit_students.groupby(by=['Year', 'Geography'], as_index=False)['Minus Error'].mean()['Minus Error']"
   ]
  },
  {
   "cell_type": "code",
   "execution_count": null,
   "id": "08d00ceb",
   "metadata": {},
   "outputs": [],
   "source": [
    "upper_mean_error - percent_mean"
   ]
  },
  {
   "cell_type": "code",
   "execution_count": null,
   "id": "e656a360",
   "metadata": {},
   "outputs": [],
   "source": [
    "percent_mean - lower_mean_error"
   ]
  },
  {
   "cell_type": "code",
   "execution_count": null,
   "id": "8b492c04",
   "metadata": {},
   "outputs": [],
   "source": [
    "mean_error = upper_mean_error - percent_mean"
   ]
  },
  {
   "cell_type": "code",
   "execution_count": null,
   "id": "04ea1ebf",
   "metadata": {},
   "outputs": [],
   "source": [
    "df_fit_students = df_fit_students.groupby(by=['Year', 'Geography'], as_index=False)['Percent'].mean()"
   ]
  },
  {
   "cell_type": "code",
   "execution_count": null,
   "id": "c494dc5d",
   "metadata": {},
   "outputs": [],
   "source": [
    "df_fit_students['Error'] = mean_error"
   ]
  },
  {
   "cell_type": "code",
   "execution_count": null,
   "id": "53dda812",
   "metadata": {},
   "outputs": [],
   "source": [
    "bay_fit_students = df_fit_students[df_fit_students['Geography'].isin(bay_counties)]\n",
    "fig, ax = plt.subplots(figsize=(15, 11))\n",
    "sns.lineplot(data=bay_fit_students, x='Year', y='Percent', hue='Geography')\n",
    "plt.title('Percentage of Fit Students in Bay Area Counties')\n",
    "plt.setp(ax.get_xticklabels(), rotation=30, horizontalalignment='right')"
   ]
  },
  {
   "cell_type": "code",
   "execution_count": null,
   "id": "6243e73b",
   "metadata": {},
   "outputs": [],
   "source": [
    "fit_bay_students_average_per_year = bay_fit_students.groupby('Year', as_index=False).median('Percent')\n",
    "fit_bay_students_average_per_year"
   ]
  },
  {
   "cell_type": "code",
   "execution_count": null,
   "id": "8e50f72d",
   "metadata": {},
   "outputs": [],
   "source": [
    "fig, ax = plt.subplots(figsize=(15, 11))\n",
    "sns.lineplot(data=fit_bay_students_average_per_year, x='Year', y='Percent')\n",
    "plt.title('Average Percentage of Fit Students in Bay Area Counties From 1998 to 2019')\n",
    "plt.setp(ax.get_xticklabels(), rotation=30, horizontalalignment='right')"
   ]
  },
  {
   "cell_type": "markdown",
   "id": "b119d7cf-0044-4162-b3f2-288818cdba41",
   "metadata": {},
   "source": [
    "#### Cleaning and Analyzing health_index Dataset"
   ]
  },
  {
   "cell_type": "code",
   "execution_count": null,
   "id": "07d93bed",
   "metadata": {},
   "outputs": [],
   "source": [
    "health_index"
   ]
  },
  {
   "cell_type": "code",
   "execution_count": null,
   "id": "8ef6fcf1",
   "metadata": {},
   "outputs": [],
   "source": [
    "health_index.columns"
   ]
  },
  {
   "cell_type": "code",
   "execution_count": null,
   "id": "5e46c470",
   "metadata": {},
   "outputs": [],
   "source": [
    "df_health_index = health_index[['County', 'District', 'Asthmaer Rate', 'Diabetes Crudeprev', 'Pct Teenbirth', 'percent_fullyvacc', 'has_sbhc', 'Hosp Mentalhealth', 'Hpsa Enc', 'Hpi Index']]"
   ]
  },
  {
   "cell_type": "code",
   "execution_count": null,
   "id": "a7b77d09",
   "metadata": {},
   "outputs": [],
   "source": [
    "bay_health_index = df_health_index[health_index['County'].isin(bay_counties)]"
   ]
  },
  {
   "cell_type": "code",
   "execution_count": null,
   "id": "41af9b7c-205e-46c7-8a45-fc773fdd5677",
   "metadata": {},
   "outputs": [],
   "source": [
    "bay_health_index.isnull().any()"
   ]
  },
  {
   "cell_type": "code",
   "execution_count": null,
   "id": "6b2fbb5c-9e3a-4e9f-b406-7ea5adac6804",
   "metadata": {},
   "outputs": [],
   "source": [
    "bay_health_index[\"Hpi Index\"] = bay_health_index.groupby(\"County\")['Hpi Index'].transform(lambda x: x.fillna(round(x.mean(), 1)))"
   ]
  },
  {
   "cell_type": "code",
   "execution_count": null,
   "id": "a519ccf9-2616-489a-b9ab-6686ebe46298",
   "metadata": {},
   "outputs": [],
   "source": [
    "bay_health_index[\"percent_fullyvacc\"] = bay_health_index.groupby(\"District\")['percent_fullyvacc'].transform(lambda x: x.fillna(round(x.mean(), 1)))"
   ]
  },
  {
   "cell_type": "markdown",
   "id": "bf5830cc-a85d-43ed-a943-fc70c92ab8ea",
   "metadata": {},
   "source": [
    "Starting the process of making a health score for each Bay Area county based off of the columns I chose."
   ]
  },
  {
   "cell_type": "code",
   "execution_count": null,
   "id": "4ad840af-01fc-4aff-a68a-5a4da0bc8132",
   "metadata": {},
   "outputs": [],
   "source": [
    "# using mean normalization to normalize data because I want to eventually predict scores with some form of regression\n",
    "normalized_bay_health_index = bay_health_index.copy()\n",
    "normalized_bay_health_index['has_sbhc'] = pd.Series(np.where(normalized_bay_health_index['has_sbhc'].values == 'Yes', 1, 0),normalized_bay_health_index.index)\n",
    "for column in normalized_bay_health_index.columns[2:]: \n",
    "    normalized_bay_health_index[column] = (normalized_bay_health_index[column] - normalized_bay_health_index[column].mean()) / normalized_bay_health_index[column].std()"
   ]
  },
  {
   "cell_type": "code",
   "execution_count": null,
   "id": "80448b82-5c2e-4fe9-af3e-28fc60debb15",
   "metadata": {},
   "outputs": [],
   "source": [
    "normalized_bay_health_index[['Asthmaer Rate', 'Diabetes Crudeprev', 'Pct Teenbirth', 'Hosp Mentalhealth', 'Hpsa Enc']] = normalized_bay_health_index[['Asthmaer Rate', 'Diabetes Crudeprev', 'Pct Teenbirth', 'Hosp Mentalhealth', 'Hpsa Enc']]*-1"
   ]
  },
  {
   "cell_type": "code",
   "execution_count": null,
   "id": "ac05fa00-b22d-4ce6-bebc-98edaca8a592",
   "metadata": {},
   "outputs": [],
   "source": [
    "# created a health index based off of the health indicators by simply adding the columns\n",
    "normalized_bay_health_index['naive_health_index'] = normalized_bay_health_index['Asthmaer Rate'] + normalized_bay_health_index['Diabetes Crudeprev'] + normalized_bay_health_index['Pct Teenbirth'] + normalized_bay_health_index['percent_fullyvacc'] + normalized_bay_health_index['has_sbhc'] + normalized_bay_health_index['Hosp Mentalhealth']  + normalized_bay_health_index['Hpi Index']\n",
    "min_score = min(normalized_bay_health_index['naive_health_index'])\n",
    "max_score = max(normalized_bay_health_index['naive_health_index'])\n",
    "\n",
    "# make scores more readable, 1 is least healthy, 10 is most healthy\n",
    "normalized_bay_health_index['naive_health_index'] = 1 + (((normalized_bay_health_index['naive_health_index'] - min_score) / (max_score - min_score))*9)\n",
    "normalized_bay_health_index"
   ]
  },
  {
   "cell_type": "markdown",
   "id": "0844b99e-1ec1-4db8-8712-a27544429b37",
   "metadata": {},
   "source": [
    "Take average of each based on county. The naive_health_index column most likely won't be used later."
   ]
  },
  {
   "cell_type": "code",
   "execution_count": null,
   "id": "713d8832-07aa-4a8c-a56a-c71eb7eaf467",
   "metadata": {},
   "outputs": [],
   "source": [
    "avg_normalized_bay_health_index = normalized_bay_health_index.groupby('County', as_index=False).mean(['Asthmaer Rate', 'Diabetes Crudeprev', \"Pct Teenbirth\", 'percent_fullyvacc', 'has_sbhc', 'Hosp Mentalhealth', 'Hpi Index', 'Hpsa Enc','naive_health_index'])\n",
    "avg_normalized_bay_health_index"
   ]
  },
  {
   "cell_type": "markdown",
   "id": "b55ce294-98e0-431b-9980-751800aa3ac8",
   "metadata": {},
   "source": [
    "#### Cleaning and Analyzing grad_rate Datasets"
   ]
  },
  {
   "cell_type": "code",
   "execution_count": null,
   "id": "b355e184",
   "metadata": {},
   "outputs": [],
   "source": [
    "grad_rate = pd.concat([grad_rate_17_18, grad_rate_18_19, grad_rate_19_20, grad_rate_20_21, grad_rate_21_22], ignore_index=True)\n",
    "grad_rate"
   ]
  },
  {
   "cell_type": "code",
   "execution_count": null,
   "id": "c746d107",
   "metadata": {},
   "outputs": [],
   "source": [
    "grad_rate = grad_rate[['ReportingYear', \n",
    "                       'CountyName',\n",
    "                       'Regular HS Diploma Graduates (Rate)', \n",
    "                       \"Met UC/CSU Grad Req's (Rate)\", \n",
    "                       'Golden State Seal Merit Diploma (Rate',\n",
    "                       'Dropout (Rate)']]"
   ]
  },
  {
   "cell_type": "code",
   "execution_count": null,
   "id": "21ad7b53",
   "metadata": {},
   "outputs": [],
   "source": [
    "bay_grad_rate = grad_rate[grad_rate['CountyName'].isin(bay_counties)]"
   ]
  },
  {
   "cell_type": "code",
   "execution_count": null,
   "id": "adef5430-87ee-49c2-b771-2760409be31e",
   "metadata": {},
   "outputs": [],
   "source": [
    "bay_grad_rate['Regular HS Diploma Graduates (Rate)'].value_counts()"
   ]
  },
  {
   "cell_type": "code",
   "execution_count": null,
   "id": "23515ed9-b8da-4411-83df-6df09b6e7ace",
   "metadata": {},
   "outputs": [],
   "source": [
    "bay_grad_rate[bay_grad_rate['CountyName'] == 'Alameda']"
   ]
  },
  {
   "cell_type": "markdown",
   "id": "da0873a0-2f8f-4e8f-8c3a-08c526bf9e4d",
   "metadata": {},
   "source": [
    "For now, I will remove the star values. I considered replacing them with the average from the district but each school is different, especially since the censored data represents schools with less than 10 students. I also considered using MLE to replace the values but I don't know the average. By removing the star values, I understand that the data is not completely representative of the population, espcially for smaller schools."
   ]
  },
  {
   "cell_type": "code",
   "execution_count": null,
   "id": "d3d8b13d",
   "metadata": {},
   "outputs": [],
   "source": [
    "bay_grad_rate = bay_grad_rate[(bay_grad_rate != '*').all(axis=1)]"
   ]
  },
  {
   "cell_type": "code",
   "execution_count": null,
   "id": "d1b06c54-e404-45fd-98d5-e2ef247c0f73",
   "metadata": {},
   "outputs": [],
   "source": [
    "bay_grad_rate['Regular HS Diploma Graduates (Rate)'] = pd.to_numeric(bay_grad_rate['Regular HS Diploma Graduates (Rate)'])\n",
    "bay_grad_rate[\"Met UC/CSU Grad Req's (Rate)\"] = pd.to_numeric(bay_grad_rate[\"Met UC/CSU Grad Req's (Rate)\"])\n",
    "bay_grad_rate['Golden State Seal Merit Diploma (Rate'] = pd.to_numeric(bay_grad_rate['Golden State Seal Merit Diploma (Rate'])\n",
    "bay_grad_rate['Dropout (Rate)'] = pd.to_numeric(bay_grad_rate['Dropout (Rate)'])"
   ]
  },
  {
   "cell_type": "code",
   "execution_count": null,
   "id": "af889d00",
   "metadata": {},
   "outputs": [],
   "source": [
    "avg_bay_grad_rate = bay_grad_rate.groupby(['ReportingYear', 'CountyName'], as_index=False).mean()"
   ]
  },
  {
   "cell_type": "code",
   "execution_count": null,
   "id": "5304516b-c0a6-4365-a88f-7465e4f3adef",
   "metadata": {},
   "outputs": [],
   "source": [
    "plt.figure(figsize=(12, 8))\n",
    "sns.lineplot(data=avg_bay_grad_rate, x='ReportingYear', y='Dropout (Rate)', hue='CountyName')\n",
    "plt.title('Average High School Dropout Rate from 2017-2018 to 2021-2022 School Years in Bay Area Counties')\n",
    "plt.show()"
   ]
  },
  {
   "cell_type": "code",
   "execution_count": null,
   "id": "faf36dbb",
   "metadata": {},
   "outputs": [],
   "source": [
    "plt.figure(figsize=(12, 8))\n",
    "sns.lineplot(data=avg_bay_grad_rate, x='ReportingYear', y='Regular HS Diploma Graduates (Rate)', hue='CountyName')\n",
    "plt.title('Average High School Graduation Rate from 2017-2018 to 2021-2022 School Years in Bay Area Counties')\n",
    "plt.show()"
   ]
  },
  {
   "cell_type": "code",
   "execution_count": null,
   "id": "d1b860a0",
   "metadata": {},
   "outputs": [],
   "source": [
    "avg_bay_grad_rate_per_year = bay_grad_rate.groupby('ReportingYear', as_index=False)[['Regular HS Diploma Graduates (Rate)', \"Met UC/CSU Grad Req's (Rate)\", 'Golden State Seal Merit Diploma (Rate', 'Dropout (Rate)']].mean()\n",
    "avg_bay_grad_rate_per_year"
   ]
  },
  {
   "cell_type": "code",
   "execution_count": null,
   "id": "8325c87d",
   "metadata": {},
   "outputs": [],
   "source": [
    "plt.figure(figsize=(12, 8))\n",
    "sns.lineplot(data=avg_bay_grad_rate_per_year, x='ReportingYear', y='Regular HS Diploma Graduates (Rate)', marker='o')\n",
    "plt.title('Average High School Graduation Rate from 2017-2018 to 2021-2022 School Years in the Bay Area')\n",
    "plt.show()"
   ]
  },
  {
   "cell_type": "markdown",
   "id": "f3faea23-31ea-49e0-996b-f8f1a07a19bc",
   "metadata": {},
   "source": [
    "#### Cleaning and Analyzing Test Scores"
   ]
  },
  {
   "cell_type": "code",
   "execution_count": null,
   "id": "d65ffd11",
   "metadata": {},
   "outputs": [],
   "source": [
    "conn = sqlite3.connect(\"health_and_success.db\")\n",
    "\n",
    "sql_query_17_18 = \"\"\"\n",
    "                WITH filtered_test_scores_17_18 AS (\n",
    "                    SELECT \n",
    "                        \"School Code\", \n",
    "                        \"Test Year\", \n",
    "                        \"Grade\", \n",
    "                        (\"Percentage Standard Exceeded\" + \"Percentage Standard Met\" + \"Percentage Standard Nearly Met\") AS \"pct_met\", \n",
    "                        \"Percentage Standard Not Met\"\n",
    "                    FROM test_scores_17_18\n",
    "                    WHERE NOT (\n",
    "                        \"School Code\" = '*' OR \"Test Year\" = '*' OR \"Grade\" = '*' OR \"Percentage Standard Exceeded\" = '*' OR \"Percentage Standard Met\" = '*' OR \"Percentage Standard Met and Above\" = '*' OR \"Percentage Standard Nearly Met\" = '*' OR \"Percentage Standard Not Met\" = '*'\n",
    "                    )\n",
    "                ),\n",
    "                filtered_county_names_17_18 AS (\n",
    "                    SELECT \"School Code\", \"County Name\"\n",
    "                    FROM county_names_17_18\n",
    "                    WHERE \"County Name\" IN ('Alameda', 'Contra Costa', 'Marin', 'Napa', 'San Francisco', 'San Mateo', 'Santa Clara', 'Solano', 'Sonoma') \n",
    "                )\n",
    "                SELECT \n",
    "                    fts.\"Test Year\",\n",
    "                    fcn.\"County Name\",\n",
    "                    fts.\"Grade\",\n",
    "                    ROUND(AVG(fts.\"pct_met\"), 2) AS \"avg_pct_met\",\n",
    "                    ROUND(AVG(fts.\"Percentage Standard Not Met\"), 2) AS \"avg_pct_not_met\"\n",
    "                FROM filtered_test_scores_17_18 AS fts\n",
    "                INNER JOIN filtered_county_names_17_18 AS fcn\n",
    "                ON fts.\"School Code\" = fcn.\"School Code\"\n",
    "                GROUP BY fts.\"Test Year\", fcn.\"County Name\", fts.\"Grade\";\n",
    "            \"\"\"\n",
    "avg_bay_test_scores_17_18 = pd.read_sql(sql_query_17_18, conn)\n",
    "conn.close()\n",
    "avg_bay_test_scores_17_18\n",
    "# filtered_test_scores_17_18 = test_scores_17_18.loc[(test_scores_17_18 != '*').all(axis=1)].compute()\n",
    "# filtered_test_scores_18_19 = test_scores_18_19[(test_scores_18_19 != '*').all(axis=1, skipna=False)].compute()\n",
    "# filtered_test_scores_20_21 = test_scores_20_21[(test_scores_20_21 != '*').all(axis=1, skipna=False)].compute()\n",
    "# filtered_test_scores_21_22 = test_scores_21_22[(test_scores_21_22 != '*').all(axis=1, skipna=False)].compute()"
   ]
  },
  {
   "cell_type": "code",
   "execution_count": 14,
   "id": "7b7d510f",
   "metadata": {},
   "outputs": [
    {
     "data": {
      "text/plain": [
       "array(['Alameda', 'Contra Costa', 'Marin', 'Napa', 'San Francisco',\n",
       "       'San Mateo', 'Santa Clara', 'Solano', 'Sonoma'], dtype=object)"
      ]
     },
     "execution_count": 14,
     "metadata": {},
     "output_type": "execute_result"
    }
   ],
   "source": [
    "avg_bay_test_scores_17_18['County Name'].unique()"
   ]
  },
  {
   "cell_type": "code",
   "execution_count": null,
   "id": "2f251ca9-61d0-40c2-98b9-b9c791c7484b",
   "metadata": {},
   "outputs": [],
   "source": [
    "whole_query= \"\"\"\n",
    "                WITH select_cols_test_scores_17_18 AS (\n",
    "                    SELECT \n",
    "                        \"School Code\", \n",
    "                        \"Test Year\", \n",
    "                        \"Grade\", \n",
    "                        \"Percentage Standard Exceeded\", \n",
    "                        \"Percentage Standard Met\", \n",
    "                        \"Percentage Standard Met and Above\", \n",
    "                        \"Percentage Standard Nearly Met\", \n",
    "                        \"Percentage Standard Not Met\"\n",
    "                    FROM test_scores_17_18\n",
    "                ),\n",
    "                filtered_test_scores_17_18 AS (\n",
    "                    SELECT *\n",
    "                    FROM select_cols_test_scores_17_18\n",
    "                    WHERE NOT (\n",
    "                        \"School Code\" = '*' OR \"Test Year\" = '*' OR \"Grade\" = '*' OR \"Percentage Standard Exceeded\" = '*' OR \"Percentage Standard Met\" = '*' OR \"Percentage Standard Met and Above\" = '*' OR \"Percentage Standard Nearly Met\" = '*' OR \"Percentage Standard Not Met\" = '*'\n",
    "                    )\n",
    "                ),\n",
    "                filtered_county_names_17_18 AS (\n",
    "                    SELECT \"School Code\", \"County Name\"\n",
    "                    FROM county_names_17_18\n",
    "                    WHERE \"County Name\" IN ('Alameda', 'Contra Costa', 'Marin', 'Napa', 'San Francisco', 'San Mateo', 'Santa Clara', 'Solano', 'Sonoma') \n",
    "                )\n",
    "                SELECT \n",
    "                    fts.\"Test Year\",\n",
    "                    fcn.\"County Name\",\n",
    "                    fts.\"Grade\",\n",
    "                    AVG(fts.\"Percentage Standard Exceeded\"),\n",
    "                    AVG(fts.\"Percentage Standard Met\"),\n",
    "                    AVG(fts.\"Percentage Standard Met and Above\"),\n",
    "                    AVG(fts.\"Percentage Standard Nearly Met\"),\n",
    "                    AVG(fts.\"Percentage Standard Not Met\")\n",
    "                FROM filtered_test_scores_17_18 AS fts\n",
    "                LEFT JOIN filtered_county_names_17_18 AS fcn\n",
    "                ON fts.\"School Code\" = fcn.\"School Code\"\n",
    "                GROUP BY fts.\"Test Year\", fcn.\"County Name\", fts.\"Grade\";\n",
    "            \"\"\""
   ]
  }
 ],
 "metadata": {
  "kernelspec": {
   "display_name": "Python 3 (ipykernel)",
   "language": "python",
   "name": "python3"
  },
  "language_info": {
   "codemirror_mode": {
    "name": "ipython",
    "version": 3
   },
   "file_extension": ".py",
   "mimetype": "text/x-python",
   "name": "python",
   "nbconvert_exporter": "python",
   "pygments_lexer": "ipython3",
   "version": "3.12.7"
  }
 },
 "nbformat": 4,
 "nbformat_minor": 5
}
